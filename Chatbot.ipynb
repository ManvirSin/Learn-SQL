{
  "nbformat": 4,
  "nbformat_minor": 0,
  "metadata": {
    "colab": {
      "name": "Chatbot.ipynb",
      "provenance": [],
      "collapsed_sections": [],
      "authorship_tag": "ABX9TyOTb6E4jG0Jye3sCUvZuHWK",
      "include_colab_link": true
    },
    "kernelspec": {
      "name": "python3",
      "display_name": "Python 3"
    },
    "language_info": {
      "name": "python"
    }
  },
  "cells": [
    {
      "cell_type": "markdown",
      "metadata": {
        "id": "view-in-github",
        "colab_type": "text"
      },
      "source": [
        "<a href=\"https://colab.research.google.com/github/ManvirSin/Learn-SQL/blob/master/Chatbot.ipynb\" target=\"_parent\"><img src=\"https://colab.research.google.com/assets/colab-badge.svg\" alt=\"Open In Colab\"/></a>"
      ]
    },
    {
      "cell_type": "code",
      "metadata": {
        "id": "jIiWhQwEtRjP"
      },
      "source": [
        "import random\n",
        "import json\n",
        "import pickle\n",
        "import numpy as np\n"
      ],
      "execution_count": 5,
      "outputs": []
    },
    {
      "cell_type": "code",
      "metadata": {
        "id": "e7N5TD6fti2j"
      },
      "source": [
        "import nltk\n",
        "from nltk.stem import WordNetLemmatizer\n",
        "\n",
        "from tensorflow.keras.models import load_model"
      ],
      "execution_count": 4,
      "outputs": []
    },
    {
      "cell_type": "code",
      "metadata": {
        "id": "t5S7WzNvuLOo"
      },
      "source": [
        "lemmatizer = WordNetLemmatizer()\n",
        "intents = json.loads(open('words.pkl', 'rb'))\n",
        "\n",
        "words = pickle.loads(open('words.pkl', 'rb'))\n",
        "classes = pickle.loads(open('classes.pkl', 'rb'))\n",
        "model = load_model('Chatbot model.model')"
      ],
      "execution_count": null,
      "outputs": []
    },
    {
      "cell_type": "code",
      "metadata": {
        "id": "rVHNK9JyuNsY"
      },
      "source": [
        "def clean_up_senetence(sentence):\n",
        "    sentence_words = nltk.word_tokenize(sentence)\n",
        "    sentence_words = [lemmatizier.lemmatize(word) for word in senetence_words]\n",
        "    return senetence_words"
      ],
      "execution_count": null,
      "outputs": []
    },
    {
      "cell_type": "code",
      "metadata": {
        "id": "Yo3waoGhuP0X"
      },
      "source": [
        "def bag_of_words(sentence):\n",
        "    sentence_words = clean_up_senetence(sentence)\n",
        "    bag = [0] * len(words)\n",
        "    for w in sentence_words:\n",
        "        for i, word in enumerate(words):\n",
        "            if word == w :\n",
        "                bag[i] = 1\n",
        "        return np.array(bag)\n"
      ],
      "execution_count": null,
      "outputs": []
    },
    {
      "cell_type": "code",
      "metadata": {
        "id": "EDudFiPfuRag"
      },
      "source": [
        "def predict_class(sentence):\n",
        "    bow = bag_of_words(sentence)\n",
        "    res = model.predict(np.array([bow]))[0]\n",
        "    ERROR_THRESHOLD = 0.25\n",
        "    result = [[i, r] for i, r in enumerate(res) if r > ERROR_THRESHOLD]\n",
        "    \n",
        "    result.sort(key=lambda x: x[1], reverse=True)\n",
        "    return_list = []\n",
        "    for r in results:\n",
        "        return_list.append({'intent': classes[r[0]], 'probability': str(r[1])})\n",
        "        return return_list"
      ],
      "execution_count": null,
      "outputs": []
    },
    {
      "cell_type": "code",
      "metadata": {
        "id": "VeHzwgJpuT_Z"
      },
      "source": [
        "def get_response(intents_list, intents_json):\n",
        "    tag = intents_list[0]['intents']\n",
        "    list_of_intents = intents_json['intents']\n",
        "    for i in list_of_intents:\n",
        "        if i['tag'] == tag:\n",
        "            result = random.choice(i['responses'])\n",
        "            break\n",
        "        return result"
      ],
      "execution_count": null,
      "outputs": []
    },
    {
      "cell_type": "code",
      "metadata": {
        "id": "fV54OWHbuV6R"
      },
      "source": [
        "print(\"Bot is Running\")"
      ],
      "execution_count": null,
      "outputs": []
    },
    {
      "cell_type": "code",
      "metadata": {
        "id": "11a2-AUhuXuh"
      },
      "source": [
        "while True:\n",
        "    message = input(\"\")\n",
        "    ints = predict_class(message)\n",
        "    res = get_response(ints, intents)\n",
        "    print (res)"
      ],
      "execution_count": null,
      "outputs": []
    }
  ]
}